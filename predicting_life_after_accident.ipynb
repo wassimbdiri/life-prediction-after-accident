{
  "nbformat": 4,
  "nbformat_minor": 0,
  "metadata": {
    "colab": {
      "name": "predicting life after accident.ipynb",
      "provenance": [],
      "collapsed_sections": []
    },
    "kernelspec": {
      "name": "python3",
      "display_name": "Python 3"
    },
    "accelerator": "GPU"
  },
  "cells": [
    {
      "cell_type": "code",
      "metadata": {
        "colab": {
          "base_uri": "https://localhost:8080/",
          "height": 203
        },
        "id": "Qmd7gFB_Cj9q",
        "outputId": "e5183fd2-4da4-4e27-97fb-993eab0d454c"
      },
      "source": [
        "#import the dataset from the drive\n",
        "!pip install -U -q PyDrive\n",
        "import pandas as pd\n",
        "import matplotlib.pyplot as plt\n",
        "import numpy as np\n",
        "import seaborn as sns\n",
        "from pydrive.auth import GoogleAuth\n",
        "from pydrive.drive import GoogleDrive\n",
        "from google.colab import auth\n",
        "from oauth2client.client import GoogleCredentials\n",
        "from sklearn.model_selection import train_test_split,cross_val_score\n",
        "from sklearn.linear_model import LogisticRegression\n",
        "from sklearn.feature_selection import RFE\n",
        "from sklearn.model_selection import train_test_split, cross_val_score\n",
        "from sklearn.metrics import accuracy_score, classification_report, precision_score, recall_score \n",
        "from sklearn.metrics import confusion_matrix, precision_recall_curve, roc_curve, auc, log_loss\n",
        "auth.authenticate_user()\n",
        "gauth = GoogleAuth()\n",
        "gauth.credentials = GoogleCredentials.get_application_default()\n",
        "drive = GoogleDrive(gauth)\n",
        "downloaded = drive.CreateFile({'id':'1E36cSGIaAkRyhmCDsBEjK8Y6SxzEmQxc'}) \n",
        "downloaded.GetContentFile('train-new.csv')  \n",
        "data=pd.read_csv('train-new.csv')\n",
        "data.head()"
      ],
      "execution_count": null,
      "outputs": [
        {
          "output_type": "execute_result",
          "data": {
            "text/html": [
              "<div>\n",
              "<style scoped>\n",
              "    .dataframe tbody tr th:only-of-type {\n",
              "        vertical-align: middle;\n",
              "    }\n",
              "\n",
              "    .dataframe tbody tr th {\n",
              "        vertical-align: top;\n",
              "    }\n",
              "\n",
              "    .dataframe thead th {\n",
              "        text-align: right;\n",
              "    }\n",
              "</style>\n",
              "<table border=\"1\" class=\"dataframe\">\n",
              "  <thead>\n",
              "    <tr style=\"text-align: right;\">\n",
              "      <th></th>\n",
              "      <th>dvcat</th>\n",
              "      <th>weight</th>\n",
              "      <th>dead</th>\n",
              "      <th>airbag</th>\n",
              "      <th>seatbelt</th>\n",
              "      <th>frontal</th>\n",
              "      <th>sex</th>\n",
              "      <th>ageOFocc</th>\n",
              "      <th>yearacc</th>\n",
              "      <th>yearVeh</th>\n",
              "      <th>abcat</th>\n",
              "      <th>occRole</th>\n",
              "      <th>deploy</th>\n",
              "      <th>caseid</th>\n",
              "      <th>injSeverity</th>\n",
              "    </tr>\n",
              "  </thead>\n",
              "  <tbody>\n",
              "    <tr>\n",
              "      <th>0</th>\n",
              "      <td>55+</td>\n",
              "      <td>53.342</td>\n",
              "      <td>dead</td>\n",
              "      <td>airbag</td>\n",
              "      <td>belted</td>\n",
              "      <td>1</td>\n",
              "      <td>f</td>\n",
              "      <td>48</td>\n",
              "      <td>2002</td>\n",
              "      <td>1997</td>\n",
              "      <td>deploy</td>\n",
              "      <td>driver</td>\n",
              "      <td>1</td>\n",
              "      <td>45:150:1</td>\n",
              "      <td>3</td>\n",
              "    </tr>\n",
              "    <tr>\n",
              "      <th>1</th>\n",
              "      <td>25-39</td>\n",
              "      <td>154.960</td>\n",
              "      <td>alive</td>\n",
              "      <td>none</td>\n",
              "      <td>none</td>\n",
              "      <td>1</td>\n",
              "      <td>m</td>\n",
              "      <td>26</td>\n",
              "      <td>2001</td>\n",
              "      <td>1968</td>\n",
              "      <td>unavail</td>\n",
              "      <td>driver</td>\n",
              "      <td>0</td>\n",
              "      <td>76:40:1</td>\n",
              "      <td>3</td>\n",
              "    </tr>\n",
              "    <tr>\n",
              "      <th>2</th>\n",
              "      <td>55+</td>\n",
              "      <td>38.994</td>\n",
              "      <td>alive</td>\n",
              "      <td>none</td>\n",
              "      <td>none</td>\n",
              "      <td>1</td>\n",
              "      <td>f</td>\n",
              "      <td>51</td>\n",
              "      <td>2002</td>\n",
              "      <td>1994</td>\n",
              "      <td>unavail</td>\n",
              "      <td>driver</td>\n",
              "      <td>0</td>\n",
              "      <td>11:184:1</td>\n",
              "      <td>3</td>\n",
              "    </tr>\n",
              "    <tr>\n",
              "      <th>3</th>\n",
              "      <td>25-39</td>\n",
              "      <td>168.568</td>\n",
              "      <td>alive</td>\n",
              "      <td>airbag</td>\n",
              "      <td>belted</td>\n",
              "      <td>1</td>\n",
              "      <td>m</td>\n",
              "      <td>27</td>\n",
              "      <td>1998</td>\n",
              "      <td>1996</td>\n",
              "      <td>deploy</td>\n",
              "      <td>pass</td>\n",
              "      <td>1</td>\n",
              "      <td>9:17:1</td>\n",
              "      <td>3</td>\n",
              "    </tr>\n",
              "    <tr>\n",
              "      <th>4</th>\n",
              "      <td>10-24</td>\n",
              "      <td>27.751</td>\n",
              "      <td>alive</td>\n",
              "      <td>airbag</td>\n",
              "      <td>belted</td>\n",
              "      <td>0</td>\n",
              "      <td>m</td>\n",
              "      <td>26</td>\n",
              "      <td>2002</td>\n",
              "      <td>1997</td>\n",
              "      <td>nodeploy</td>\n",
              "      <td>pass</td>\n",
              "      <td>0</td>\n",
              "      <td>2:2:2</td>\n",
              "      <td>0</td>\n",
              "    </tr>\n",
              "  </tbody>\n",
              "</table>\n",
              "</div>"
            ],
            "text/plain": [
              "   dvcat   weight   dead  airbag  ... occRole  deploy    caseid  injSeverity\n",
              "0    55+   53.342   dead  airbag  ...  driver       1  45:150:1            3\n",
              "1  25-39  154.960  alive    none  ...  driver       0   76:40:1            3\n",
              "2    55+   38.994  alive    none  ...  driver       0  11:184:1            3\n",
              "3  25-39  168.568  alive  airbag  ...    pass       1    9:17:1            3\n",
              "4  10-24   27.751  alive  airbag  ...    pass       0     2:2:2            0\n",
              "\n",
              "[5 rows x 15 columns]"
            ]
          },
          "metadata": {},
          "execution_count": 2
        }
      ]
    },
    {
      "cell_type": "code",
      "metadata": {
        "colab": {
          "base_uri": "https://localhost:8080/"
        },
        "id": "7D873A1o0T_d",
        "outputId": "328c691f-c4ff-45a2-ab4d-0e5a7524b047"
      },
      "source": [
        "print(\"the rate of dead is\",len(data[data[\"dead\"]==\"dead\"])/data.shape[0])"
      ],
      "execution_count": null,
      "outputs": [
        {
          "output_type": "stream",
          "text": [
            "the rate of dead is 0.04423569598633646\n"
          ],
          "name": "stdout"
        }
      ]
    },
    {
      "cell_type": "code",
      "metadata": {
        "colab": {
          "base_uri": "https://localhost:8080/",
          "height": 203
        },
        "id": "BAKmUVQkFZgr",
        "outputId": "154da9ad-f4ed-4e8a-f284-ef2601185c8e"
      },
      "source": [
        "data.head()"
      ],
      "execution_count": null,
      "outputs": [
        {
          "output_type": "execute_result",
          "data": {
            "text/html": [
              "<div>\n",
              "<style scoped>\n",
              "    .dataframe tbody tr th:only-of-type {\n",
              "        vertical-align: middle;\n",
              "    }\n",
              "\n",
              "    .dataframe tbody tr th {\n",
              "        vertical-align: top;\n",
              "    }\n",
              "\n",
              "    .dataframe thead th {\n",
              "        text-align: right;\n",
              "    }\n",
              "</style>\n",
              "<table border=\"1\" class=\"dataframe\">\n",
              "  <thead>\n",
              "    <tr style=\"text-align: right;\">\n",
              "      <th></th>\n",
              "      <th>dvcat</th>\n",
              "      <th>weight</th>\n",
              "      <th>dead</th>\n",
              "      <th>airbag</th>\n",
              "      <th>seatbelt</th>\n",
              "      <th>frontal</th>\n",
              "      <th>sex</th>\n",
              "      <th>ageOFocc</th>\n",
              "      <th>yearacc</th>\n",
              "      <th>yearVeh</th>\n",
              "      <th>abcat</th>\n",
              "      <th>occRole</th>\n",
              "      <th>deploy</th>\n",
              "      <th>caseid</th>\n",
              "      <th>injSeverity</th>\n",
              "    </tr>\n",
              "  </thead>\n",
              "  <tbody>\n",
              "    <tr>\n",
              "      <th>0</th>\n",
              "      <td>55+</td>\n",
              "      <td>53.342</td>\n",
              "      <td>dead</td>\n",
              "      <td>airbag</td>\n",
              "      <td>belted</td>\n",
              "      <td>1</td>\n",
              "      <td>f</td>\n",
              "      <td>48</td>\n",
              "      <td>2002</td>\n",
              "      <td>1997</td>\n",
              "      <td>deploy</td>\n",
              "      <td>driver</td>\n",
              "      <td>1</td>\n",
              "      <td>45:150:1</td>\n",
              "      <td>3</td>\n",
              "    </tr>\n",
              "    <tr>\n",
              "      <th>1</th>\n",
              "      <td>25-39</td>\n",
              "      <td>154.960</td>\n",
              "      <td>alive</td>\n",
              "      <td>none</td>\n",
              "      <td>none</td>\n",
              "      <td>1</td>\n",
              "      <td>m</td>\n",
              "      <td>26</td>\n",
              "      <td>2001</td>\n",
              "      <td>1968</td>\n",
              "      <td>unavail</td>\n",
              "      <td>driver</td>\n",
              "      <td>0</td>\n",
              "      <td>76:40:1</td>\n",
              "      <td>3</td>\n",
              "    </tr>\n",
              "    <tr>\n",
              "      <th>2</th>\n",
              "      <td>55+</td>\n",
              "      <td>38.994</td>\n",
              "      <td>alive</td>\n",
              "      <td>none</td>\n",
              "      <td>none</td>\n",
              "      <td>1</td>\n",
              "      <td>f</td>\n",
              "      <td>51</td>\n",
              "      <td>2002</td>\n",
              "      <td>1994</td>\n",
              "      <td>unavail</td>\n",
              "      <td>driver</td>\n",
              "      <td>0</td>\n",
              "      <td>11:184:1</td>\n",
              "      <td>3</td>\n",
              "    </tr>\n",
              "    <tr>\n",
              "      <th>3</th>\n",
              "      <td>25-39</td>\n",
              "      <td>168.568</td>\n",
              "      <td>alive</td>\n",
              "      <td>airbag</td>\n",
              "      <td>belted</td>\n",
              "      <td>1</td>\n",
              "      <td>m</td>\n",
              "      <td>27</td>\n",
              "      <td>1998</td>\n",
              "      <td>1996</td>\n",
              "      <td>deploy</td>\n",
              "      <td>pass</td>\n",
              "      <td>1</td>\n",
              "      <td>9:17:1</td>\n",
              "      <td>3</td>\n",
              "    </tr>\n",
              "    <tr>\n",
              "      <th>4</th>\n",
              "      <td>10-24</td>\n",
              "      <td>27.751</td>\n",
              "      <td>alive</td>\n",
              "      <td>airbag</td>\n",
              "      <td>belted</td>\n",
              "      <td>0</td>\n",
              "      <td>m</td>\n",
              "      <td>26</td>\n",
              "      <td>2002</td>\n",
              "      <td>1997</td>\n",
              "      <td>nodeploy</td>\n",
              "      <td>pass</td>\n",
              "      <td>0</td>\n",
              "      <td>2:2:2</td>\n",
              "      <td>0</td>\n",
              "    </tr>\n",
              "  </tbody>\n",
              "</table>\n",
              "</div>"
            ],
            "text/plain": [
              "   dvcat   weight   dead  airbag  ... occRole  deploy    caseid  injSeverity\n",
              "0    55+   53.342   dead  airbag  ...  driver       1  45:150:1            3\n",
              "1  25-39  154.960  alive    none  ...  driver       0   76:40:1            3\n",
              "2    55+   38.994  alive    none  ...  driver       0  11:184:1            3\n",
              "3  25-39  168.568  alive  airbag  ...    pass       1    9:17:1            3\n",
              "4  10-24   27.751  alive  airbag  ...    pass       0     2:2:2            0\n",
              "\n",
              "[5 rows x 15 columns]"
            ]
          },
          "metadata": {},
          "execution_count": 4
        }
      ]
    },
    {
      "cell_type": "code",
      "metadata": {
        "colab": {
          "base_uri": "https://localhost:8080/"
        },
        "id": "OlfASn7TSa6s",
        "outputId": "baf327b0-ab29-496f-abbe-d313cfaab5f3"
      },
      "source": [
        "data.info()"
      ],
      "execution_count": null,
      "outputs": [
        {
          "output_type": "stream",
          "text": [
            "<class 'pandas.core.frame.DataFrame'>\n",
            "RangeIndex: 17565 entries, 0 to 17564\n",
            "Data columns (total 15 columns):\n",
            " #   Column       Non-Null Count  Dtype  \n",
            "---  ------       --------------  -----  \n",
            " 0   dvcat        17565 non-null  object \n",
            " 1   weight       17565 non-null  float64\n",
            " 2   dead         17565 non-null  object \n",
            " 3   airbag       17565 non-null  object \n",
            " 4   seatbelt     17565 non-null  object \n",
            " 5   frontal      17565 non-null  int64  \n",
            " 6   sex          17565 non-null  object \n",
            " 7   ageOFocc     17565 non-null  int64  \n",
            " 8   yearacc      17565 non-null  int64  \n",
            " 9   yearVeh      17565 non-null  int64  \n",
            " 10  abcat        17565 non-null  object \n",
            " 11  occRole      17565 non-null  object \n",
            " 12  deploy       17565 non-null  int64  \n",
            " 13  caseid       17565 non-null  object \n",
            " 14  injSeverity  17565 non-null  int64  \n",
            "dtypes: float64(1), int64(6), object(8)\n",
            "memory usage: 2.0+ MB\n"
          ],
          "name": "stdout"
        }
      ]
    },
    {
      "cell_type": "code",
      "metadata": {
        "colab": {
          "base_uri": "https://localhost:8080/"
        },
        "id": "2DVpTPwIS3OB",
        "outputId": "4c4ec869-05ef-42f2-dacc-db969edd88bf"
      },
      "source": [
        "data.nunique()"
      ],
      "execution_count": null,
      "outputs": [
        {
          "output_type": "execute_result",
          "data": {
            "text/plain": [
              "dvcat             5\n",
              "weight         8406\n",
              "dead              2\n",
              "airbag            2\n",
              "seatbelt          2\n",
              "frontal           2\n",
              "sex               2\n",
              "ageOFocc         82\n",
              "yearacc           6\n",
              "yearVeh          44\n",
              "abcat             3\n",
              "occRole           2\n",
              "deploy            2\n",
              "caseid         8236\n",
              "injSeverity       7\n",
              "dtype: int64"
            ]
          },
          "metadata": {},
          "execution_count": 6
        }
      ]
    },
    {
      "cell_type": "code",
      "metadata": {
        "colab": {
          "base_uri": "https://localhost:8080/"
        },
        "id": "D8ix1CgkfFKX",
        "outputId": "3a7c8468-b8b9-4d98-ba12-222f94dabedd"
      },
      "source": [
        "data.isna().sum()"
      ],
      "execution_count": null,
      "outputs": [
        {
          "output_type": "execute_result",
          "data": {
            "text/plain": [
              "dvcat          0\n",
              "weight         0\n",
              "dead           0\n",
              "airbag         0\n",
              "seatbelt       0\n",
              "frontal        0\n",
              "sex            0\n",
              "ageOFocc       0\n",
              "yearacc        0\n",
              "yearVeh        0\n",
              "abcat          0\n",
              "occRole        0\n",
              "deploy         0\n",
              "caseid         0\n",
              "injSeverity    0\n",
              "dtype: int64"
            ]
          },
          "metadata": {},
          "execution_count": 7
        }
      ]
    },
    {
      "cell_type": "markdown",
      "metadata": {
        "id": "3ixT2JK_fcP1"
      },
      "source": [
        "there is no nan value"
      ]
    },
    {
      "cell_type": "code",
      "metadata": {
        "colab": {
          "base_uri": "https://localhost:8080/",
          "height": 1000
        },
        "id": "nErNkI92TDVd",
        "outputId": "468635f2-7def-40f1-b3a4-bcf07f313267"
      },
      "source": [
        "#the distribution of the cathegorical variables\n",
        "cat=[\"dvcat\",\"airbag\",\"seatbelt\",\"frontal\",\"sex\",\"abcat\",\"occRole\",\"deploy\",\"injSeverity\"]\n",
        "for i in cat:\n",
        "    sns.catplot(x=i ,hue=\"dead\",kind=\"count\", data=data)\n"
      ],
      "execution_count": null,
      "outputs": [
        {
          "output_type": "display_data",
          "data": {
            "image/png": "[encoded data removed]",
            "text/plain": [
              "<Figure size 421x360 with 1 Axes>"
            ]
          },
          "metadata": {
            "needs_background": "light"
          }
        },
        {
          "output_type": "display_data",
          "data": {
            "image/png": "[encoded data removed]",
            "text/plain": [
              "<Figure size 421x360 with 1 Axes>"
            ]
          },
          "metadata": {
            "needs_background": "light"
          }
        },
        {
          "output_type": "display_data",
          "data": {
            "image/png": "[encoded data removed]",
            "text/plain": [
              "<Figure size 421x360 with 1 Axes>"
            ]
          },
          "metadata": {
            "needs_background": "light"
          }
        },
        {
          "output_type": "display_data",
          "data": {
            "image/png": "[encoded data removed]",
            "text/plain": [
              "<Figure size 421x360 with 1 Axes>"
            ]
          },
          "metadata": {
            "needs_background": "light"
          }
        },
        {
          "output_type": "display_data",
          "data": {
            "image/png": "[encoded data removed]",
            "text/plain": [
              "<Figure size 421x360 with 1 Axes>"
            ]
          },
          "metadata": {
            "needs_background": "light"
          }
        },
        {
          "output_type": "display_data",
          "data": {
            "image/png": "[encoded data removed]",
            "text/plain": [
              "<Figure size 421x360 with 1 Axes>"
            ]
          },
          "metadata": {
            "needs_background": "light"
          }
        },
        {
          "output_type": "display_data",
          "data": {
            "image/png": "[encoded data removed]",
            "text/plain": [
              "<Figure size 421x360 with 1 Axes>"
            ]
          },
          "metadata": {
            "needs_background": "light"
          }
        },
        {
          "output_type": "display_data",
          "data": {
            "image/png": "[encoded data removed]",
            "text/plain": [
              "<Figure size 421x360 with 1 Axes>"
            ]
          },
          "metadata": {
            "needs_background": "light"
          }
        },
        {
          "output_type": "display_data",
          "data": {
            "image/png": "[encoded data removed]",
            "text/plain": [
              "<Figure size 421x360 with 1 Axes>"
            ]
          },
          "metadata": {
            "needs_background": "light"
          }
        }
      ]
    },
    {
      "cell_type": "code",
      "metadata": {
        "id": "U774CBDcWLCn",
        "colab": {
          "base_uri": "https://localhost:8080/",
          "height": 1000
        },
        "outputId": "8e18bc19-d2e7-4579-a926-852ba9c1773b"
      },
      "source": [
        "#the distribution of the continuous variables\n",
        "non_cat=[\"ageOFocc\",\"yearacc\",\"yearVeh\",\"caseid\"]\n",
        "for i in non_cat:\n",
        "  sns.displot(data, x=i,hue=\"dead\", kde=True)"
      ],
      "execution_count": null,
      "outputs": [
        {
          "output_type": "display_data",
          "data": {
            "image/png": "[encoded data removed]",
            "text/plain": [
              "<Figure size 421x360 with 1 Axes>"
            ]
          },
          "metadata": {
            "needs_background": "light"
          }
        },
        {
          "output_type": "display_data",
          "data": {
            "image/png": "[encoded data removed]",
            "text/plain": [
              "<Figure size 421x360 with 1 Axes>"
            ]
          },
          "metadata": {
            "needs_background": "light"
          }
        },
        {
          "output_type": "display_data",
          "data": {
            "image/png": "[encoded data removed]",
            "text/plain": [
              "<Figure size 421x360 with 1 Axes>"
            ]
          },
          "metadata": {
            "needs_background": "light"
          }
        },
        {
          "output_type": "display_data",
          "data": {
            "image/png": "[encoded data removed]",
            "text/plain": [
              "<Figure size 421x360 with 1 Axes>"
            ]
          },
          "metadata": {
            "needs_background": "light"
          }
        }
      ]
    },
    {
      "cell_type": "markdown",
      "metadata": {
        "id": "iyPPbmZyej-z"
      },
      "source": [
        "we can say that 'abcat'and 'caseid' are not important features.\n",
        "\n",
        "\n",
        "\n",
        "\n",
        "\n"
      ]
    },
    {
      "cell_type": "code",
      "metadata": {
        "colab": {
          "base_uri": "https://localhost:8080/"
        },
        "id": "qwCeXKkvxoxF",
        "outputId": "16e2a779-bdeb-46d6-ab9b-ce189f19474f"
      },
      "source": [
        "#The \"abcat\" variable\n",
        "data.groupby(['abcat', 'dead'])['dead'].count()"
      ],
      "execution_count": null,
      "outputs": [
        {
          "output_type": "execute_result",
          "data": {
            "text/plain": [
              "abcat     dead \n",
              "deploy    alive    5718\n",
              "          dead      257\n",
              "nodeploy  alive    3659\n",
              "          dead       90\n",
              "unavail   alive    7411\n",
              "          dead      430\n",
              "Name: dead, dtype: int64"
            ]
          },
          "metadata": {},
          "execution_count": 23
        }
      ]
    },
    {
      "cell_type": "code",
      "metadata": {
        "colab": {
          "base_uri": "https://localhost:8080/",
          "height": 279
        },
        "id": "JoTfD05v6MDc",
        "outputId": "b5ee3518-25f6-4d48-dd0b-8edaeb1f223a"
      },
      "source": [
        "#The boxplot of \"yearVeh\"\n",
        "ax = sns.boxplot(x=\"dead\", y=\"yearVeh\", data=data)"
      ],
      "execution_count": null,
      "outputs": [
        {
          "output_type": "display_data",
          "data": {
            "image/png": "[encoded data removed]",
            "text/plain": [
              "<Figure size 432x288 with 1 Axes>"
            ]
          },
          "metadata": {
            "needs_background": "light"
          }
        }
      ]
    },
    {
      "cell_type": "markdown",
      "metadata": {
        "id": "gyFxyvrcZQjs"
      },
      "source": [
        "We can see that this variable isn't really important."
      ]
    },
    {
      "cell_type": "code",
      "metadata": {
        "colab": {
          "base_uri": "https://localhost:8080/",
          "height": 281
        },
        "id": "8uzVB2mxDQy-",
        "outputId": "129bef55-261c-4c83-f3f4-e879c8ed6fb0"
      },
      "source": [
        "ax = sns.boxplot(x=\"dead\", y=\"ageOFocc\", data=data)"
      ],
      "execution_count": null,
      "outputs": [
        {
          "output_type": "display_data",
          "data": {
            "image/png": "[encoded data removed]",
            "text/plain": [
              "<Figure size 432x288 with 1 Axes>"
            ]
          },
          "metadata": {
            "needs_background": "light"
          }
        }
      ]
    },
    {
      "cell_type": "code",
      "metadata": {
        "colab": {
          "base_uri": "https://localhost:8080/",
          "height": 279
        },
        "id": "cZXHJyVtXyzO",
        "outputId": "b1af6d12-31e4-4653-cc02-ecfefdc3188f"
      },
      "source": [
        "#the distribution of the weight \n",
        "ax = sns.boxplot(x = data['weight'], palette = 'inferno')\n",
        "ax.set_xlabel(xlabel = 'weight', fontsize = 10)\n",
        "plt.show()"
      ],
      "execution_count": null,
      "outputs": [
        {
          "output_type": "display_data",
          "data": {
            "image/png": "[encoded data removed]",
            "text/plain": [
              "<Figure size 432x288 with 1 Axes>"
            ]
          },
          "metadata": {
            "needs_background": "light"
          }
        }
      ]
    },
    {
      "cell_type": "markdown",
      "metadata": {
        "id": "mhErD7ILYl7L"
      },
      "source": [
        "There are many outliears in the \"weight\" feature. So much noise in this variable so it'll be better not to use it.\n",
        "\n",
        "\n"
      ]
    },
    {
      "cell_type": "markdown",
      "metadata": {
        "id": "j3XzYZl6Vvng"
      },
      "source": [
        "## Preprocessing the data"
      ]
    },
    {
      "cell_type": "code",
      "metadata": {
        "id": "2brXPI9FVlKu"
      },
      "source": [
        "#changing all the values to numerical values\n",
        "def processing(df):\n",
        "  df.loc[df['sex'] == 'm', 'sex'] = 1\n",
        "  df.loc[df['sex'] == 'f', 'sex'] = 0\n",
        "  df.loc[df['dead'] == 'dead', 'dead'] = 1\n",
        "  df.loc[df['dead'] == 'alive', 'dead'] = 0\n",
        "  df.loc[df['dvcat'] == '1-9km/h', 'dvcat'] = 1\n",
        "  df.loc[df['dvcat'] == '10-24', 'dvcat'] = 2\n",
        "  df.loc[df['dvcat'] == '25-39', 'dvcat'] = 3\n",
        "  df.loc[df['dvcat'] == '40-54', 'dvcat'] = 4\n",
        "  df.loc[df['dvcat'] == '55+', 'dvcat'] = 5\n",
        "  df.loc[df['occRole'] == 'pass', 'occRole'] = 0\n",
        "  df.loc[df['occRole'] == 'driver', 'occRole'] = 1\n",
        "  df.loc[df['seatbelt'] == 'none', 'seatbelt'] = 0\n",
        "  df.loc[df['seatbelt'] == 'belted', 'seatbelt'] = 1\n",
        "  df.loc[df['airbag'] == 'none', 'airbag'] = 0\n",
        "  df.loc[df['airbag'] == 'airbag', 'airbag'] = 1\n",
        "  return df\n",
        "#drop the column of the less important variables  \n",
        "def clean(df):\n",
        "  df=df.drop(['abcat', 'caseid','weight','yearVeh'], axis=1)\n",
        "  return df\n",
        "\n",
        "\n"
      ],
      "execution_count": null,
      "outputs": []
    },
    {
      "cell_type": "code",
      "metadata": {
        "id": "Y3grFlQQOtnr"
      },
      "source": [
        "df=data.copy()\n",
        "df=clean(df)\n",
        "df=processing(df)\n",
        "y=df['dead']\n",
        "y=y.astype('int') \n",
        "X=df.drop(['dead'], axis=1)\n",
        "X_train,X_test,y_train,y_test = train_test_split(X,y,test_size=0.2, random_state=2)\n",
        "\n"
      ],
      "execution_count": null,
      "outputs": []
    },
    {
      "cell_type": "markdown",
      "metadata": {
        "id": "38U-3I-aWNeq"
      },
      "source": [
        "# Logistic Regression model"
      ]
    },
    {
      "cell_type": "code",
      "metadata": {
        "colab": {
          "base_uri": "https://localhost:8080/"
        },
        "id": "11a6fvg7298U",
        "outputId": "ec4bb847-89dd-40a2-9cb6-020db1dbccfd"
      },
      "source": [
        "from sklearn import metrics\n",
        "model=LogisticRegression()\n",
        "model.fit(X_train ,y_train)\n",
        "y_pred=model.predict(X_test)\n",
        "y_predtrain=model.predict(X_train)\n",
        "print('the accuracy of the logistic regression model is',accuracy_score(y_test, y_pred))\n",
        "print(metrics.confusion_matrix(y_test, y_pred))\n",
        "print(classification_report(y_test, y_pred))\n"
      ],
      "execution_count": null,
      "outputs": [
        {
          "output_type": "stream",
          "text": [
            "the accuracy of the logistic regression model is 0.9854824935952178\n",
            "[[3356   12]\n",
            " [  39  106]]\n",
            "              precision    recall  f1-score   support\n",
            "\n",
            "           0       0.99      1.00      0.99      3368\n",
            "           1       0.90      0.73      0.81       145\n",
            "\n",
            "    accuracy                           0.99      3513\n",
            "   macro avg       0.94      0.86      0.90      3513\n",
            "weighted avg       0.98      0.99      0.98      3513\n",
            "\n"
          ],
          "name": "stdout"
        },
        {
          "output_type": "stream",
          "text": [
            "/usr/local/lib/python3.7/dist-packages/sklearn/linear_model/_logistic.py:940: ConvergenceWarning: lbfgs failed to converge (status=1):\n",
            "STOP: TOTAL NO. of ITERATIONS REACHED LIMIT.\n",
            "\n",
            "Increase the number of iterations (max_iter) or scale the data as shown in:\n",
            "    https://scikit-learn.org/stable/modules/preprocessing.html\n",
            "Please also refer to the documentation for alternative solver options:\n",
            "    https://scikit-learn.org/stable/modules/linear_model.html#logistic-regression\n",
            "  extra_warning_msg=_LOGISTIC_SOLVER_CONVERGENCE_MSG)\n"
          ],
          "name": "stderr"
        }
      ]
    },
    {
      "cell_type": "markdown",
      "metadata": {
        "id": "Vy2yTzK3WkVj"
      },
      "source": [
        "# Random Forest model"
      ]
    },
    {
      "cell_type": "code",
      "metadata": {
        "colab": {
          "base_uri": "https://localhost:8080/"
        },
        "id": "HNiLL-_tsDqN",
        "outputId": "c1d20033-b440-42aa-e1a4-0d479d045849"
      },
      "source": [
        "from sklearn.ensemble import RandomForestClassifier\n",
        "from sklearn.datasets import make_classification\n",
        "from sklearn import metrics\n",
        "model1 = RandomForestClassifier(max_depth=2, random_state=0)\n",
        "model1.fit(X_train, y_train)\n",
        "y_pred=model1.predict(X_test)\n",
        "y_predtrain=model1.predict(X_train)\n",
        "print('the accuracy is',accuracy_score(y_test, y_pred))\n",
        "print(metrics.confusion_matrix(y_test, y_pred))\n",
        "print(classification_report(y_test, y_pred))\n"
      ],
      "execution_count": null,
      "outputs": [
        {
          "output_type": "stream",
          "text": [
            "the accuracy is 0.9857671505835468\n",
            "[[3367    1]\n",
            " [  49   96]]\n",
            "              precision    recall  f1-score   support\n",
            "\n",
            "           0       0.99      1.00      0.99      3368\n",
            "           1       0.99      0.66      0.79       145\n",
            "\n",
            "    accuracy                           0.99      3513\n",
            "   macro avg       0.99      0.83      0.89      3513\n",
            "weighted avg       0.99      0.99      0.98      3513\n",
            "\n"
          ],
          "name": "stdout"
        }
      ]
    },
    {
      "cell_type": "markdown",
      "metadata": {
        "id": "rBHbavIjKTNJ"
      },
      "source": [
        "\n",
        "The accuracy of the random forest model and the logistic regression model and the random forest model are equal. We have better precision in the random forest model but also we see a better recall in the logistic regression model.\n",
        "**For the f1-score we see that the best one is in the Logistic regression model so we can say that the Logistic regression model is better.**\n",
        "\n"
      ]
    }
  ]
}